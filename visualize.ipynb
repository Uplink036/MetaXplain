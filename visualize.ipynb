{
 "cells": [
  {
   "cell_type": "markdown",
   "metadata": {},
   "source": [
    "# Imports"
   ]
  },
  {
   "cell_type": "code",
   "execution_count": null,
   "metadata": {},
   "outputs": [],
   "source": [
    "import pymongo\n",
    "import os\n",
    "import numpy\n",
    "import matplotlib\n",
    "import matplotlib.pyplot as plt\n",
    "import seaborn as sns\n",
    "import seaborn_image as sns_img\n",
    "from sklearn.manifold import TSNE\n",
    "from matplotlib.colors import BoundaryNorm\n",
    "from random import choice\n",
    "from mpl_toolkits.axes_grid1 import make_axes_locatable\n"
   ]
  },
  {
   "cell_type": "code",
   "execution_count": null,
   "metadata": {},
   "outputs": [],
   "source": [
    "SMALL_SIZE = 14\n",
    "MEDIUM_SIZE = 16\n",
    "BIGGER_SIZE = 20\n",
    "\n",
    "plt.rc('font', size=SMALL_SIZE)          # controls default text sizes\n",
    "plt.rc('axes', titlesize=SMALL_SIZE)     # fontsize of the axes title\n",
    "plt.rc('axes', labelsize=MEDIUM_SIZE)    # fontsize of the x and y labels\n",
    "plt.rc('xtick', labelsize=SMALL_SIZE)    # fontsize of the tick labels\n",
    "plt.rc('ytick', labelsize=SMALL_SIZE)    # fontsize of the tick labels\n",
    "plt.rc('legend', fontsize=SMALL_SIZE)    # legend fontsize\n",
    "plt.rc('figure', titlesize=BIGGER_SIZE)  # fontsize of the figure title"
   ]
  },
  {
   "cell_type": "markdown",
   "metadata": {},
   "source": [
    "# Connect to database"
   ]
  },
  {
   "cell_type": "code",
   "execution_count": null,
   "metadata": {},
   "outputs": [],
   "source": [
    "try:\n",
    "    database_url = \"mongodb://localhost:27017/\"\n",
    "    client = pymongo.MongoClient(database_url)\n",
    "    client.server_info()\n",
    "except pymongo.errors.ServerSelectionTimeoutError as err:\n",
    "    raise ConnectionError\n",
    "\n",
    "database = client[\"MNIST\"]\n",
    "std_dataset = database[\"dataset\"]\n",
    "meta_collection = database[\"metamorphical\"]\n",
    "meta_statuses = meta_collection.distinct(\"status\")\n",
    "def get_unique_field(status_field):\n",
    "    return next(iter(meta_collection.find_one({\"status\": status_field}, {\"_id\": 0, \"label\":0, \"size\": 0, \"image\":0, \"status\":0})))"
   ]
  },
  {
   "cell_type": "markdown",
   "metadata": {},
   "source": [
    "# Get a picture"
   ]
  },
  {
   "cell_type": "code",
   "execution_count": null,
   "metadata": {},
   "outputs": [],
   "source": [
    "def get_picture(query = {}):\n",
    "    pipeline = [\n",
    "    {\n",
    "        \"$sample\": {\n",
    "            \"size\": 1  # Get 1 random document\n",
    "        }\n",
    "    }\n",
    "    ]\n",
    "    pick = std_dataset.aggregate(pipeline)\n",
    "    pick = pick.to_list()[0]\n",
    "    image = numpy.reshape(pick[\"image\"], (28, 28))\n",
    "    return image, pick[\"label\"]\n",
    "\n",
    "def get_meta_picture(query = {}):\n",
    "    pipeline = [\n",
    "    {\n",
    "        \"$match\": query\n",
    "    },\n",
    "    {\n",
    "        \"$sample\": {\n",
    "            \"size\": 1  # Get 1 random document\n",
    "        }\n",
    "    }\n",
    "    ]\n",
    "    pick = meta_collection.aggregate(pipeline)\n",
    "    pick = pick.to_list()[0]\n",
    "    image = numpy.reshape(pick[\"image\"], (28, 28))\n",
    "    pick[\"image\"] = image\n",
    "    return pick\n"
   ]
  },
  {
   "cell_type": "markdown",
   "metadata": {},
   "source": [
    "# A look into the pictures of both datasets"
   ]
  },
  {
   "cell_type": "code",
   "execution_count": null,
   "metadata": {},
   "outputs": [],
   "source": [
    "\n",
    "fig, axes = plt.subplots(3, 3, figsize=(12, 12), sharex=True, sharey=True)\n",
    "for i in range(0, 3):\n",
    "    for j in range(0, 3):\n",
    "        a_pic, a_label = get_picture()\n",
    "        title = (f\"Label: {a_label}\")\n",
    "        axes[i][j].imshow(a_pic, cmap=sns.color_palette(\"Blues\", as_cmap=True))\n",
    "        axes[i][j].set_title(title)\n",
    "        axes[i][j].set_xticks([]),axes[i][j].set_yticks([])\n",
    "plt.show()\n"
   ]
  },
  {
   "cell_type": "code",
   "execution_count": null,
   "metadata": {},
   "outputs": [],
   "source": [
    "\n",
    "query = {}\n",
    "fig, axes = plt.subplots(3, 3, figsize=(12, 12), sharex=True, sharey=True)\n",
    "for i in range(0, 3):\n",
    "    for j in range(0, 3):\n",
    "        meta_pic = get_meta_picture(query)\n",
    "        title = (f\"Label: {meta_pic[\"label\"]} | Status: {meta_pic[\"status\"]}\")\n",
    "        axes[i][j].imshow(meta_pic[\"image\"], cmap=sns.color_palette(\"Blues\", as_cmap=True))\n",
    "        axes[i][j].set_title(title)\n",
    "        axes[i][j].set_xticks([]),axes[i][j].set_yticks([])\n",
    "plt.show()"
   ]
  },
  {
   "cell_type": "markdown",
   "metadata": {},
   "source": [
    "# Standard Dataset\n",
    "## Distrubution"
   ]
  },
  {
   "cell_type": "code",
   "execution_count": null,
   "metadata": {},
   "outputs": [],
   "source": [
    "std_results = database[\"dataset_results\"]\n",
    "palette_color = sns.color_palette('bright') \n",
    "\n",
    "data_points = std_dataset.find({})\n",
    "num_labels = 10\n",
    "label_bins = [0]*num_labels\n",
    "\n",
    "for item in data_points:\n",
    "    label_bins[item[\"label\"]] += 1\n",
    "\n",
    "\n",
    "data_points = std_results.find({})\n",
    "num_labels = 10\n",
    "pred_bins = [0]*num_labels\n",
    "\n",
    "for item in data_points:\n",
    "    pred_bins[item[\"predicted\"]] += 1\n",
    "\n",
    "\n",
    "fig, axes = plt.subplots(1, 2, figsize=(14,7))\n",
    "fig.suptitle(\"Training set distribution\")\n",
    "axes[0].pie(label_bins, labels=range(0, 10), colors=palette_color, autopct=\"%.0f%%\")\n",
    "axes[1].pie(pred_bins, labels=range(0, 10), colors=palette_color, autopct=\"%.0f%%\")\n",
    "axes[0].title.set_text(\"True\")\n",
    "axes[1].title.set_text(\"Predicted\")\n",
    "plt.show()\n"
   ]
  },
  {
   "cell_type": "code",
   "execution_count": null,
   "metadata": {},
   "outputs": [],
   "source": [
    "def get_predicted_results(query = {}):\n",
    "    predicted_comp_points = std_results.aggregate(\n",
    "        [\n",
    "            {\n",
    "                \"$lookup\":\n",
    "                {\n",
    "                    \"from\": \"dataset\",\n",
    "                    \"localField\": \"id\",\n",
    "                    \"foreignField\": \"_id\",\n",
    "                    \"as\": \"matches\"\n",
    "                }\n",
    "            },\n",
    "            {\n",
    "                \"$project\":\n",
    "                {\n",
    "                    \"_id\": 0,\n",
    "                    \"predicted\": \"$predicted\",\n",
    "                    \"label\": \"$matches.label\",\n",
    "                    \"image\": \"$matches.image\"\n",
    "                }\n",
    "            },\n",
    "            {\n",
    "                \"$match\": query\n",
    "            },\n",
    "            {\n",
    "                \"$unwind\": \"$image\"\n",
    "            },\n",
    "            {\n",
    "                \"$unwind\": \"$label\"\n",
    "            },\n",
    "            {\n",
    "                \"$limit\": 10000\n",
    "            }\n",
    "        ]      \n",
    "    )\n",
    "    return list(predicted_comp_points)"
   ]
  },
  {
   "cell_type": "markdown",
   "metadata": {},
   "source": [
    "## Clustering"
   ]
  },
  {
   "cell_type": "code",
   "execution_count": null,
   "metadata": {},
   "outputs": [],
   "source": [
    "from matplotlib.colors import ListedColormap\n",
    "my_cmap = ListedColormap(palette_color.as_hex())\n",
    "fig, axes = plt.subplots(1, 3, figsize=(21,7))\n",
    "x = []\n",
    "y = []\n",
    "z = []\n",
    "b = []\n",
    "%matplotlib inline\n",
    "\n",
    "predicted_comp_points = get_predicted_results()\n",
    "for item in predicted_comp_points:\n",
    "    x.append(item[\"image\"])\n",
    "    y.append(item[\"label\"])\n",
    "    z.append(item[\"predicted\"])\n",
    "    b.append(int(not item[\"predicted\"] == item[\"label\"]))\n",
    "\n",
    "tsne = TSNE(n_components=2, random_state=42)\n",
    "np_x = numpy.array(x)\n",
    "x_tsne = tsne.fit_transform(np_x)\n",
    "x_vals, y_vals = zip(*x_tsne)\n",
    "\n",
    "scatter_label= axes[0].scatter(x_vals, y_vals, c=y, cmap=my_cmap, s=10)\n",
    "scatter_pred = axes[1].scatter(x_vals, y_vals, c=z, cmap=my_cmap, s=10)\n",
    "scatter_bool = axes[2].scatter(x_vals, y_vals, c=b, cmap=\"bwr\", s=10)\n",
    "axes[2].legend([\"Correct\", \"Incorrect\"])\n",
    "\n",
    "divider0 = make_axes_locatable(axes[0])\n",
    "cax0 = divider0.append_axes(\"left\", size=\"5%\", pad=0.05)\n",
    "divider1 = make_axes_locatable(axes[1])\n",
    "cax1 = divider1.append_axes(\"left\", size=\"0%\", pad=0.05)\n",
    "divider2 = make_axes_locatable(axes[2])\n",
    "cax2 = divider2.append_axes(\"right\", size=\"0%\", pad=0.05)\n",
    "\n",
    "\n",
    "cbar0 = fig.colorbar(scatter_label, cax=cax0, location=\"left\")\n",
    "cbar1 = fig.colorbar(scatter_pred, cax=cax1)\n",
    "cbar2 = fig.colorbar(scatter_bool, cax=cax2)\n",
    "cax0.yaxis.tick_left()\n",
    "fig.delaxes(cax1)\n",
    "fig.delaxes(cax2)\n",
    "\n",
    "axes[0].set_xticks([]),axes[0].set_yticks([])\n",
    "axes[1].set_xticks([]),axes[1].set_yticks([])\n",
    "axes[2].set_xticks([]),axes[2].set_yticks([])\n",
    "axes[0].set_title(\"True\")\n",
    "axes[1].set_title(\"Predicted\")\n",
    "axes[2].set_title(\"Difference\")\n",
    "fig.suptitle(\"Testing set groupings\")\n",
    "plt.tight_layout()\n",
    "plt.show()"
   ]
  },
  {
   "cell_type": "markdown",
   "metadata": {},
   "source": [
    "## Heatmap of correctly and not corretcly predicted labels"
   ]
  },
  {
   "cell_type": "code",
   "execution_count": null,
   "metadata": {},
   "outputs": [],
   "source": [
    "queires = [{\"label\": x} for x in range(0, 9+1)]\n",
    "for query in queires:    \n",
    "    true_heatmap = [0]*28*28\n",
    "    false_heatmap = [0]*28*28\n",
    "    predicted_comp_points = get_predicted_results(query)\n",
    "    for item in predicted_comp_points:\n",
    "        correct = (item[\"predicted\"] == item[\"label\"])\n",
    "        norm_image = numpy.array(item[\"image\"]) / max(item[\"image\"])\n",
    "        for index, pixel in enumerate(norm_image):\n",
    "            if pixel >= 0.5:\n",
    "                if correct:\n",
    "                    true_heatmap[index] += 1\n",
    "                else:\n",
    "                    false_heatmap[index]+= 1\n",
    "\n",
    "    fig, axes = plt.subplots(1, 2, figsize=(12,6))\n",
    "    image = numpy.reshape(true_heatmap, (28, 28))\n",
    "    axes[0].imshow(image)\n",
    "    image = numpy.reshape(false_heatmap, (28, 28))\n",
    "    axes[1].imshow(image)\n",
    "\n"
   ]
  },
  {
   "cell_type": "markdown",
   "metadata": {},
   "source": [
    "## Heatmap of the falsly predicted ones"
   ]
  },
  {
   "cell_type": "code",
   "execution_count": null,
   "metadata": {},
   "outputs": [],
   "source": [
    "queires = [{\"predicted\": x} for x in range(0, 9+1)]\n",
    "for query in queires:    \n",
    "    true_heatmap = [0]*28*28\n",
    "    false_heatmap = [0]*28*28\n",
    "    predicted_comp_points = get_predicted_results(query)\n",
    "    for item in predicted_comp_points:\n",
    "        correct = (item[\"predicted\"] == item[\"label\"])\n",
    "        norm_image = numpy.array(item[\"image\"]) / max(item[\"image\"])\n",
    "        for index, pixel in enumerate(norm_image):\n",
    "            if pixel >= 0.5:\n",
    "                if correct:\n",
    "                    true_heatmap[index] += 1\n",
    "                else:\n",
    "                    false_heatmap[index]+= 1\n",
    "\n",
    "    fig, ax = plt.subplots(1, 1, figsize=(12,6))\n",
    "    image = numpy.reshape(false_heatmap, (28, 28))\n",
    "    ax.imshow(image)\n",
    "\n"
   ]
  },
  {
   "cell_type": "markdown",
   "metadata": {},
   "source": [
    "# Methamorphic\n",
    "## Distubution"
   ]
  },
  {
   "cell_type": "code",
   "execution_count": null,
   "metadata": {},
   "outputs": [],
   "source": [
    "meta_results = database[\"metamorphical_results\"]\n",
    "\n",
    "data_points = meta_collection.find({},{\"label\": 1})\n",
    "num_labels = 10\n",
    "label_bins = [0]*num_labels\n",
    "\n",
    "for item in data_points:\n",
    "    label_bins[item[\"label\"]] += 1\n",
    "\n",
    "\n",
    "data_points = meta_results.find({})\n",
    "num_labels = 10\n",
    "pred_bins = [0]*num_labels\n",
    "\n",
    "for item in data_points:\n",
    "    pred_bins[item[\"predicted\"]] += 1\n",
    "\n",
    "\n",
    "fig, axes = plt.subplots(1, 2, figsize=(14,7))\n",
    "fig.suptitle(\"Metamorphic set distribution\")\n",
    "axes[0].pie(label_bins, labels=range(0, 10), colors=palette_color, autopct=\"%.0f%%\")\n",
    "axes[1].pie(pred_bins, labels=range(0, 10), colors=palette_color, autopct=\"%.0f%%\")\n",
    "axes[0].title.set_text(\"True\")\n",
    "axes[1].title.set_text(\"Predicted\")\n",
    "plt.show()"
   ]
  },
  {
   "cell_type": "code",
   "execution_count": null,
   "metadata": {},
   "outputs": [],
   "source": [
    "def get_predicted_meta_results(query = {}):\n",
    "    predicted_comp_points_mean = meta_results.aggregate(\n",
    "                        [\n",
    "                            {\n",
    "                                \"$lookup\":\n",
    "                                {\n",
    "                                    \"from\": \"metamorphical\",\n",
    "                                    \"localField\": \"id\",\n",
    "                                    \"foreignField\": \"_id\",\n",
    "                                    \"as\": \"matches\"\n",
    "                                }\n",
    "                            },\n",
    "                            {\n",
    "                                \"$project\":\n",
    "                                {\n",
    "                                    \"_id\": 0,\n",
    "                                    \"predicted\": \"$predicted\",\n",
    "                                    \"label\": \"$matches.label\",\n",
    "                                    \"image\": \"$matches.image\",\n",
    "                                    \"status\": \"$matches.status\"\n",
    "                                }\n",
    "                            },\n",
    "                            {\n",
    "                                \"$match\": query\n",
    "                            },\n",
    "                            {\n",
    "                                \"$unwind\": \"$image\"\n",
    "                            },\n",
    "                            {\n",
    "                                \"$unwind\": \"$label\"\n",
    "                            },\n",
    "                            {\n",
    "                                \"$limit\": 10000\n",
    "                            }\n",
    "                        ]      \n",
    "    )\n",
    "    return list(predicted_comp_points_mean)"
   ]
  },
  {
   "cell_type": "markdown",
   "metadata": {},
   "source": [
    "## Clustering"
   ]
  },
  {
   "cell_type": "code",
   "execution_count": null,
   "metadata": {},
   "outputs": [],
   "source": [
    "x = []\n",
    "y = []\n",
    "z = []\n",
    "b = []\n",
    "#query = {\"status\": \"rotation\"}\n",
    "queires = [{}]+[{\"status\": field} for field in meta_statuses]\n",
    "for query in queires:\n",
    "    predicted_comp_points_mean = get_predicted_meta_results(query)\n",
    "    for item in predicted_comp_points_mean:\n",
    "        x.append(item[\"image\"])\n",
    "        y.append(item[\"label\"])\n",
    "        z.append(item[\"predicted\"])\n",
    "        b.append(not item[\"predicted\"] == item[\"label\"])\n",
    "\n",
    "\n",
    "    tsne = TSNE(n_components=2, random_state=42)\n",
    "    np_x = numpy.array(x)\n",
    "    x_tsne = tsne.fit_transform(np_x)\n",
    "    x_vals, y_vals = zip(*x_tsne)\n",
    "    fig, axes = plt.subplots(1, 3, figsize=(21,7))\n",
    "\n",
    "    scatter_label= axes[0].scatter(x_vals, y_vals, c=y, cmap=my_cmap, s=10)\n",
    "    scatter_pred = axes[1].scatter(x_vals, y_vals, c=z, cmap=my_cmap, s=10)\n",
    "    scatter_bool = axes[2].scatter(x_vals, y_vals, c=b, cmap=\"bwr\", s=10)\n",
    "\n",
    "    divider0 = make_axes_locatable(axes[0])\n",
    "    cax0 = divider0.append_axes(\"left\", size=\"5%\", pad=0.05)\n",
    "    divider1 = make_axes_locatable(axes[1])\n",
    "    cax1 = divider1.append_axes(\"left\", size=\"5%\", pad=0.05)\n",
    "    divider2 = make_axes_locatable(axes[2])\n",
    "    cax2 = divider2.append_axes(\"right\", size=\"5%\", pad=0.05)\n",
    "\n",
    "\n",
    "\n",
    "    cbar0 = fig.colorbar(scatter_label, label='Color Value', cax=cax0, location=\"left\")\n",
    "    cbar1 = fig.colorbar(scatter_pred, label='Color Value', cax=cax1)\n",
    "    cbar2 = fig.colorbar(scatter_bool, label='Truth Value', cax=cax2)\n",
    "    cax0.yaxis.tick_left()\n",
    "\n",
    "    fig.delaxes(cax1)\n",
    "    axes[0].set_title(\"True\")\n",
    "    axes[1].set_title(\"Predicted\")\n",
    "    axes[2].set_title(\"Difference\")\n",
    "    fig.suptitle(f\"Metamorphic set groupings\"+(f\" | {query}\" if query != {} else \"\"))\n",
    "    plt.tight_layout()\n",
    "    axes[0].set_xticks([]),axes[0].set_yticks([])\n",
    "    axes[1].set_xticks([]),axes[1].set_yticks([])\n",
    "    axes[2].set_xticks([]),axes[2].set_yticks([])\n",
    "    plt.show()\n",
    "    plt.savefig(f\"figures/meta_\"+f\"{next(iter(query.values()))}\" if query != {} else \"all\"+\".eps\")"
   ]
  },
  {
   "cell_type": "markdown",
   "metadata": {},
   "source": [
    "## Heatmap of the labels who were corretcly and not corretcly predicted"
   ]
  },
  {
   "cell_type": "code",
   "execution_count": null,
   "metadata": {},
   "outputs": [],
   "source": [
    "\n",
    "queires = [{\"label\": x} for x in range(0, 9+1)]\n",
    "for query in queires:    \n",
    "    true_heatmap = [0]*28*28\n",
    "    false_heatmap = [0]*28*28\n",
    "    predicted_comp_points_mean = get_predicted_meta_results(query)\n",
    "    for item in predicted_comp_points_mean:\n",
    "        correct = (item[\"predicted\"] == item[\"label\"])\n",
    "        norm_image = numpy.array(item[\"image\"]) / max(item[\"image\"])\n",
    "        for index, pixel in enumerate(norm_image):\n",
    "            if pixel >= 0.5:\n",
    "                if correct:\n",
    "                    true_heatmap[index] += 1\n",
    "                else:\n",
    "                    false_heatmap[index]+= 1\n",
    "\n",
    "    fig, axes = plt.subplots(1, 2, figsize=(12,6))\n",
    "    image = numpy.reshape(true_heatmap, (28, 28))\n",
    "    axes[0].imshow(image)\n",
    "    image = numpy.reshape(false_heatmap, (28, 28))\n",
    "    axes[1].imshow(image)\n",
    "\n",
    "\n"
   ]
  },
  {
   "cell_type": "markdown",
   "metadata": {},
   "source": [
    "## Heatmap of the predicted labels who aren't correct."
   ]
  },
  {
   "cell_type": "code",
   "execution_count": null,
   "metadata": {},
   "outputs": [],
   "source": [
    "\n",
    "queires = [{\"predicted\": x} for x in range(0, 9+1)]\n",
    "for query in queires:\n",
    "    true_heatmap = [0]*28*28\n",
    "    false_heatmap = [0]*28*28\n",
    "    predicted_comp_points_mean = get_predicted_meta_results(query)\n",
    "    for item in predicted_comp_points_mean:\n",
    "        correct = (item[\"predicted\"] == item[\"label\"])\n",
    "        norm_image = numpy.array(item[\"image\"]) / max(item[\"image\"])\n",
    "        for index, pixel in enumerate(norm_image):\n",
    "            if pixel >= 0.5:\n",
    "                if correct:\n",
    "                    true_heatmap[index] += 1\n",
    "                else:\n",
    "                    false_heatmap[index]+= 1\n",
    "\n",
    "    fig, ax = plt.subplots(1, 1, figsize=(6,6))\n",
    "    image = numpy.reshape(false_heatmap, (28, 28))\n",
    "    ax.imshow(image)\n",
    "\n",
    "\n"
   ]
  },
  {
   "cell_type": "markdown",
   "metadata": {},
   "source": [
    "# Won't use"
   ]
  },
  {
   "cell_type": "code",
   "execution_count": null,
   "metadata": {},
   "outputs": [],
   "source": [
    "from sklearn import tree\n",
    "import graphviz\n",
    "import numpy as np\n",
    "from dtreeviz import model\n",
    "\n",
    "np_x = np.array(x)[:1000]\n",
    "np_y = np.array(z)[:1000]\n",
    "\n",
    "clf = tree.DecisionTreeClassifier(max_depth=4)\n",
    "clf = clf.fit(np_x, np_y)\n",
    "viz = model(clf, X_train=np_x, y_train=np_y,\n",
    "            feature_names=[f\"[{x%28}, {int(x/28)}]\" for x in range(0, 784)],\n",
    "            target_name=\"label\")\n",
    "\n",
    "\n",
    "%config InlineBackend.figure_format = 'retina' # Make visualizations look good\n",
    "#%config InlineBackend.figure_format = 'svg' \n",
    "%matplotlib inline\n",
    "plt.Figure(figsize=(15, 15))\n",
    "viz.view(fancy=False, orientation=\"TD\", fontname=\"DejaVu Sans\")"
   ]
  },
  {
   "cell_type": "code",
   "execution_count": null,
   "metadata": {},
   "outputs": [],
   "source": [
    "from lime.lime_image import LimeImageExplainer\n",
    "from lime.wrappers.scikit_image import SegmentationAlgorithm\n",
    "\n",
    "explainer = LimeImageExplainer()\n",
    "segmenter = SegmentationAlgorithm(\"quickshift\")"
   ]
  },
  {
   "cell_type": "code",
   "execution_count": null,
   "metadata": {},
   "outputs": [],
   "source": [
    "explainer.explain_instance(np_x, clf.predict_proba, top_labels=10, hide_color=0, num_samples=10000, segmentation_fn=segmenter)"
   ]
  }
 ],
 "metadata": {
  "kernelspec": {
   "display_name": "Python 3",
   "language": "python",
   "name": "python3"
  },
  "language_info": {
   "codemirror_mode": {
    "name": "ipython",
    "version": 3
   },
   "file_extension": ".py",
   "mimetype": "text/x-python",
   "name": "python",
   "nbconvert_exporter": "python",
   "pygments_lexer": "ipython3",
   "version": "3.12.8"
  }
 },
 "nbformat": 4,
 "nbformat_minor": 2
}
