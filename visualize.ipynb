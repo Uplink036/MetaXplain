{
 "cells": [
  {
   "cell_type": "markdown",
   "metadata": {},
   "source": [
    "# Imports"
   ]
  },
  {
   "cell_type": "code",
   "execution_count": null,
   "metadata": {},
   "outputs": [],
   "source": [
    "import pymongo\n",
    "import os\n",
    "import numpy\n",
    "import matplotlib.pyplot as plt\n",
    "import seaborn as sns\n",
    "import seaborn_image as sns_img\n",
    "from random import choice"
   ]
  },
  {
   "cell_type": "markdown",
   "metadata": {},
   "source": [
    "# Connect to database"
   ]
  },
  {
   "cell_type": "code",
   "execution_count": null,
   "metadata": {},
   "outputs": [],
   "source": [
    "try:\n",
    "    database_url = \"mongodb://localhost:27017/\"\n",
    "    client = pymongo.MongoClient(database_url)\n",
    "    client.server_info()\n",
    "except pymongo.errors.ServerSelectionTimeoutError as err:\n",
    "    raise ConnectionError\n",
    "\n",
    "database = client[\"MNIST\"]\n",
    "std_dataset = database[\"dataset\"]\n",
    "meta_collection = database[\"metamorphical\"]"
   ]
  },
  {
   "cell_type": "markdown",
   "metadata": {},
   "source": [
    "# Get a picture"
   ]
  },
  {
   "cell_type": "code",
   "execution_count": null,
   "metadata": {},
   "outputs": [],
   "source": [
    "def get_picture(query = {}):\n",
    "    pipeline = [\n",
    "    {\n",
    "        \"$sample\": {\n",
    "            \"size\": 1  # Get 1 random document\n",
    "        }\n",
    "    }\n",
    "    ]\n",
    "    pick = std_dataset.aggregate(pipeline)\n",
    "    pick = pick.to_list()[0]\n",
    "    image = numpy.reshape(pick[\"image\"], (28, 28))\n",
    "    return image, pick[\"label\"]\n",
    "\n",
    "def get_meta_picture(query = {}):\n",
    "    pipeline = [\n",
    "    {\n",
    "        \"$match\": query\n",
    "    },\n",
    "    {\n",
    "        \"$sample\": {\n",
    "            \"size\": 1  # Get 1 random document\n",
    "        }\n",
    "    }\n",
    "    ]\n",
    "    pick = meta_collection.aggregate(pipeline)\n",
    "    pick = pick.to_list()[0]\n",
    "    image = numpy.reshape(pick[\"image\"], (28, 28))\n",
    "    pick[\"image\"] = image\n",
    "    return pick\n"
   ]
  },
  {
   "cell_type": "code",
   "execution_count": null,
   "metadata": {},
   "outputs": [],
   "source": [
    "\n",
    "a_pic, a_label = get_picture()\n",
    "print(f\"Label: {a_label}\")\n",
    "plt.imshow(a_pic, cmap=sns.color_palette(\"Blues\", as_cmap=True))\n"
   ]
  },
  {
   "cell_type": "code",
   "execution_count": null,
   "metadata": {},
   "outputs": [],
   "source": [
    "\n",
    "meta_pic = get_meta_picture({\"status\":\"noise\"})\n",
    "print(f\"Label: {meta_pic[\"label\"]} | Status: {meta_pic[\"status\"]}\")\n",
    "plt.imshow(meta_pic[\"image\"], cmap=sns.color_palette(\"Blues\", as_cmap=True))"
   ]
  },
  {
   "cell_type": "markdown",
   "metadata": {},
   "source": [
    "# Transform a picture"
   ]
  },
  {
   "cell_type": "code",
   "execution_count": null,
   "metadata": {},
   "outputs": [],
   "source": [
    "# Get 5000 data points\n",
    "\n",
    "data_points = std_dataset.aggregate([{\"$sample\": {\"size\": 5000}}])\n",
    "x = []\n",
    "y = []\n",
    "for item in data_points:\n",
    "    x.append(item[\"image\"])\n",
    "    y.append(item[\"label\"])\n",
    "\n",
    "# Visualize based on the 2 componentes and the label.\n",
    "\n",
    "# \n"
   ]
  },
  {
   "cell_type": "code",
   "execution_count": null,
   "metadata": {},
   "outputs": [],
   "source": [
    "from sklearn.decomposition import PCA, SparsePCA\n",
    "\n",
    "pca = PCA(n_components=2)\n",
    "s_pca = SparsePCA(n_components=2)\n",
    "\n",
    "points = s_pca.fit_transform(x)"
   ]
  },
  {
   "cell_type": "code",
   "execution_count": null,
   "metadata": {},
   "outputs": [],
   "source": [
    "points\n",
    "x_vals, y_vals = zip(*points)\n",
    "\n",
    "# Create a scatter plot\n",
    "plt.scatter(x_vals, y_vals, c=y, cmap='viridis', s=100)"
   ]
  },
  {
   "cell_type": "code",
   "execution_count": null,
   "metadata": {},
   "outputs": [],
   "source": [
    "\n",
    "from sklearn.manifold import TSNE\n",
    "\n",
    "tsne = TSNE(n_components=2, random_state=42)\n",
    "np_x = numpy.array(x)\n",
    "x_tsne = tsne.fit_transform(np_x)\n"
   ]
  },
  {
   "cell_type": "code",
   "execution_count": null,
   "metadata": {},
   "outputs": [],
   "source": [
    "x_tsne\n",
    "x_vals, y_vals = zip(*x_tsne)\n",
    "\n",
    "# Create a scatter plot\n",
    "plt.scatter(x_vals, y_vals, c=y, cmap='viridis', s=100)"
   ]
  },
  {
   "cell_type": "code",
   "execution_count": null,
   "metadata": {},
   "outputs": [],
   "source": [
    "from matplotlib.colors import BoundaryNorm\n",
    "\n",
    "bound_norm = BoundaryNorm(range(0,11), 10)\n",
    "\n",
    "plt.figure(figsize=(12, 8))\n",
    "scatter = plt.scatter(x_vals, y_vals, c=y, cmap='tab10', s=100)\n",
    "# Add color bar to show the mapping of numbers to colors\n",
    "plt.colorbar(scatter, label='Color Value')"
   ]
  }
 ],
 "metadata": {
  "kernelspec": {
   "display_name": "Python 3",
   "language": "python",
   "name": "python3"
  },
  "language_info": {
   "codemirror_mode": {
    "name": "ipython",
    "version": 3
   },
   "file_extension": ".py",
   "mimetype": "text/x-python",
   "name": "python",
   "nbconvert_exporter": "python",
   "pygments_lexer": "ipython3",
   "version": "3.12.8"
  }
 },
 "nbformat": 4,
 "nbformat_minor": 2
}
